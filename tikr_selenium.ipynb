{
 "cells": [
  {
   "cell_type": "code",
   "execution_count": null,
   "metadata": {},
   "outputs": [],
   "source": [
    "import undetected_chromedriver as uc\n",
    "from selenium.webdriver.chrome.options import Options\n",
    "from selenium.webdriver.support import expected_conditions as EC\n",
    "from selenium.webdriver.support.ui import WebDriverWait as Wait\n",
    "import time\n",
    "\n",
    "USER = \"\" # Cambia esto por tu usuario\n",
    "PASS = \"\" # Cambia esto por tu contraseña\n",
    "\n",
    "# Configurar las opciones de Chrome\n",
    "chrome_options = Options()\n",
    "chrome_options.add_argument(\"--lang=en\")  # Establece el idioma en inglés\n",
    "chrome_options.add_argument(\"--window-size=1366,768\")\n",
    "\n",
    "# Inicializar WebDriver con undetected_chromedriver y las opciones configuradas\n",
    "driver = uc.Chrome(options=chrome_options)\n",
    "\n",
    "# Configurar preferencias después de iniciar el navegador\n",
    "driver.execute_cdp_cmd(\"Browser.setDownloadBehavior\", {\n",
    "    \"behavior\": \"allow\",\n",
    "    \"downloadPath\": \"/path/to/download\"  # Cambia esto a la ruta deseada\n",
    "})\n",
    "\n",
    "# Configurar el idioma preferido usando JavaScript\n",
    "driver.execute_script(\n",
    "    \"\"\"\n",
    "    Object.defineProperty(navigator, 'language', {\n",
    "        get: function() { return 'en-US'; }\n",
    "    });\n",
    "    Object.defineProperty(navigator, 'languages', {\n",
    "        get: function() { return ['en-US', 'en']; }\n",
    "    });\n",
    "    \"\"\"\n",
    ")\n",
    "\n",
    "# Navegar a la página deseada\n",
    "driver.get(\"https://app.tikr.com/login?ref=organics\")\n",
    "\n"
   ]
  },
  {
   "cell_type": "code",
   "execution_count": 2,
   "metadata": {},
   "outputs": [],
   "source": [
    "# from selenium import webdriver\n",
    "from selenium.webdriver.common.by import By\n",
    "\n",
    "# Inicializar el driver (asegúrate de tener el driver correcto instalado)\n",
    "# driver = webdriver.Chrome()  \n",
    "\n",
    "# Buscar los elementos correctamente\n",
    "driver.find_element(By.ID, \"input-13\").send_keys(USER)\n",
    "driver.find_element(By.ID, \"input-16\").send_keys(PASS)\n"
   ]
  },
  {
   "cell_type": "code",
   "execution_count": 3,
   "metadata": {},
   "outputs": [],
   "source": [
    "# Localizar el botón por clase y texto\n",
    "boton_iniciar_sesion = driver.find_element(By.XPATH, \"//button[contains(@class, 'primaryAction') and contains(., 'Sign In')]\")\n",
    "\n",
    "# Configurar las opciones de Chrome para bloquear popups\n",
    "chrome_options = Options()\n",
    "chrome_options.add_argument(\"--disable-popup-blocking\")\n",
    "\n",
    "# Pulsar el botón\n",
    "boton_iniciar_sesion.click()\n"
   ]
  },
  {
   "cell_type": "code",
   "execution_count": 6,
   "metadata": {},
   "outputs": [],
   "source": [
    "# Localizar el botón por clase\n",
    "#boton_lets_go = driver.find_element(By.CSS_SELECTOR, \"button.onboarding-start-tour-btn\")\n",
    "\n",
    "# Esperar explícitamente a que el botón esté visible e interactuable\n",
    "wait = Wait(driver, 5)\n",
    "boton_lets_go = wait.until(EC.element_to_be_clickable((By.XPATH, \"//button[contains(@class, 'onboarding-start-tour-btn') and contains(text(), \\\"Let's Go\\\")]\")))\n",
    "\n",
    "# Pulsar el botón\n",
    "boton_lets_go.click()"
   ]
  },
  {
   "cell_type": "code",
   "execution_count": 7,
   "metadata": {},
   "outputs": [],
   "source": [
    "# Localizar el botón por clase\n",
    "boton_cerrar = driver.find_element(By.CSS_SELECTOR, \"button.driver-popover-close-btn\")\n",
    "\n",
    "# Pulsar el botón\n",
    "boton_cerrar.click()"
   ]
  },
  {
   "cell_type": "code",
   "execution_count": 8,
   "metadata": {},
   "outputs": [],
   "source": [
    "from selenium.webdriver.common.keys import Keys\n",
    "from selenium.webdriver.common.action_chains import ActionChains\n",
    "\n",
    "\n",
    "tikr = input(\"Ingrese el tikr de la empresa: \")\n",
    "tikr = tikr.upper()\n",
    "\n",
    "# Localizar el campo de entrada por ID\n",
    "campo_entrada = driver.find_element(By.ID, \"input-95\")\n",
    "\n",
    "# Desplazarse al campo de entrada usando JavaScript\n",
    "driver.execute_script(\"arguments[0].scrollIntoView(true);\", campo_entrada)\n",
    "\n",
    "# Usar ActionChains para hacer clic en el campo de entrada\n",
    "actions = ActionChains(driver)\n",
    "actions.move_to_element(campo_entrada).click().perform()\n",
    "\n",
    "campo_entrada.send_keys(tikr)\n",
    "\n",
    "time.sleep(12)\n",
    "from selenium.webdriver.common.keys import Keys\n",
    "\n",
    "campo_entrada.send_keys(Keys.RETURN)  # Simular la tecla Enter\n",
    "\n",
    "\n",
    "\n",
    "\n",
    "\n",
    "\n",
    "\n"
   ]
  },
  {
   "cell_type": "code",
   "execution_count": 10,
   "metadata": {},
   "outputs": [],
   "source": [
    "# Buscar por el texto exacto \"Financials\" dentro de un enlace\n",
    "element = driver.find_element(By.XPATH, \"//a[normalize-space(text())='Financials' or contains(normalize-space(.), 'Financials')]\")\n",
    "\n",
    "element.click()"
   ]
  },
  {
   "cell_type": "code",
   "execution_count": 12,
   "metadata": {},
   "outputs": [],
   "source": [
    "# Localizar el botón con las clases y atributos proporcionados\n",
    "boton = driver.find_element(By.XPATH, \"//div[@role='button' and @aria-haspopup='listbox' and @aria-expanded='false' and contains(@class, 'v-input__slot')]\")\n",
    "\n",
    "# Pulsar el botón\n",
    "boton.click()"
   ]
  },
  {
   "cell_type": "code",
   "execution_count": null,
   "metadata": {},
   "outputs": [
    {
     "name": "stdout",
     "output_type": "stream",
     "text": [
      "El elemento es un div\n"
     ]
    }
   ],
   "source": [
    "\"\"\"\n",
    "\n",
    "element = driver.find_element(By.XPATH, \"//*[contains(@id, 'list-item-') and contains(@id, '-1')]\")\n",
    "tag_name = element.tag_name\n",
    "print(f\"El elemento es un {tag_name}\")\n",
    "\n",
    "\"\"\""
   ]
  },
  {
   "cell_type": "code",
   "execution_count": 14,
   "metadata": {},
   "outputs": [],
   "source": [
    "# Si el elemento tiene un texto específico\n",
    "elemento = driver.find_element(By.XPATH, \"//div[contains(@id, 'list-item-')]//div[@class='v-list-item__title' and text()='Secondary Data']\")\n",
    "\n",
    "elemento.click()"
   ]
  },
  {
   "cell_type": "code",
   "execution_count": null,
   "metadata": {},
   "outputs": [],
   "source": [
    "\"\"\"\n",
    "# Seleccionar el segundo elemento de la lista (índice 1)\n",
    "elementos = driver.find_elements(By.CSS_SELECTOR, \"[id^='list-item-'] .v-list-item__title\")\n",
    "segundo_elemento = elementos[1]\n",
    "\n",
    "\"\"\""
   ]
  },
  {
   "cell_type": "code",
   "execution_count": 50,
   "metadata": {},
   "outputs": [],
   "source": [
    "# Localizar el botón por clase y atributo 'alt'\n",
    "boton_copiar_tabla = driver.find_element(By.XPATH, \"//button[@alt='Copy Table' and contains(@class, 'v-btn--outlined')]\")\n",
    "\n",
    "# Pulsar el botón\n",
    "boton_copiar_tabla.click()"
   ]
  },
  {
   "cell_type": "code",
   "execution_count": 51,
   "metadata": {},
   "outputs": [
    {
     "name": "stdout",
     "output_type": "stream",
     "text": [
      "Contenido copiado: Income Statement | TIKR.com\t12/31/19\t12/31/20\t12/31/21\t12/31/22\t12/31/23\n",
      " \n",
      "Revenue\t1,331.42\t1,589.36\t2,668.89\t2,742.01\t548.15\n",
      "   % Change YoY\t\t19.4%\t67.9%\t2.7%\t(80.0%)\n",
      "Cost Of Goods Sold\t(1,158.22)\t(1,355.66)\t(2,257.24)\t(2,314.78)\t(148.36)\n",
      "Gross Profit\t173.20\t233.71\t411.65\t427.24\t399.79\n",
      "   % Change YoY\t\t34.9%\t76.1%\t3.8%\t(6.4%)\n",
      "   % Gross Margins\t13.0%\t14.7%\t15.4%\t15.6%\t72.9%\n",
      "Selling General & Admin Expenses\t(28.62)\t(54.82)\t(76.85)\t(85.68)\t(42.11)\n",
      "Research And Development Expenses\t\t\t(41.28)\t(40.73)\t(5.27)\n",
      "Other Expenses\t(159.08)\t(160.30)\t(246.23)\t(241.55)\t222.93\n",
      "Operating Expenses\t(187.70)\t(215.12)\t(323.07)\t(327.23)\t(222.93)\n",
      "Operating Income\t(17.24)\t22.44\t94.21\t105.62\t176.86\n",
      "   % Change YoY\t\t230.2%\t319.8%\t12.1%\t67.5%\n",
      "   % Operating Margins\t(1.3%)\t1.4%\t3.5%\t3.9%\t32.3%\n",
      "Interest Expense\t(4.86)\t(6.00)\t(12.07)\t(12.15)\t(14.40)\n",
      "Total Other Income/Expenses Net\t(5.32)\t(7.25)\t(18.86)\t(21.89)\t(24.24)\n",
      "Earnings Before Tax\t(22.55)\t15.19\t75.35\t83.73\t152.63\n",
      "   % Change YoY\t\t167.3%\t396.2%\t11.1%\t82.3%\n",
      "   % EBT Margins\t(1.7%)\t1.0%\t2.8%\t3.1%\t27.8%\n",
      "Income Tax Expense\t(7.95)\t(15.23)\t32.38\t(34.54)\t(66.92)\n",
      "   Effective Tax Rate %\t(35.3%)\t100.3%\t(43.0%)\t41.3%\t43.8%\n",
      "Net Income\t(30.50)\t(0.04)\t107.74\t49.18\t85.71\n",
      "   % Change YoY\t\t99.9%\t250,646.5%\t(54.3%)\t74.3%\n",
      "   % Net Income Margins\t(2.3%)\t(0.0%)\t4.0%\t1.8%\t15.6%\n",
      "Diluted Weighted Average Shares Outstanding\t629.43\t629.43\t629.43\t629.29\t618.81\n",
      "   % Change YoY\t\t\t\t(0.0%)\t(1.7%)\n",
      "EPS Diluted\t(0.05)\t(0.00)\t0.17\t0.08\t0.14\n",
      "   % Change YoY\t\t99.8%\t170,100.0%\t(54.0%)\t79.0%\n",
      "Supplementary Data:\n",
      "Basic EPS\t(0.05)\t(0.00)\t0.17\t0.08\t0.14\n",
      "   % Change YoY\t\t99.8%\t170,100.0%\t(54.0%)\t79.0%\n",
      "Basic Weighted Average Shares Out.\t629.43\t629.43\t629.43\t629.29\t618.81\n",
      "   % Change YoY\t\t\t\t(0.0%)\t(1.7%)\n",
      "EBITDA\t88.42\t152.47\t256.03\t276.68\t324.87\n",
      "   % Change YoY\t\t72.4%\t67.9%\t8.1%\t17.4%\n",
      "   % EBITDA Margins\t6.6%\t9.6%\t9.6%\t10.1%\t59.3%\n",
      "Depreciation and Amortization\t105.66\t130.03\t161.82\t171.06\t148.01\n",
      "General and Administrative Expenses\t27.71\t54.13\t76.85\t85.68\t42.11\n",
      "Selling And Marketing Expenses\t0.91\t0.70\t\t\t\n",
      "\n"
     ]
    }
   ],
   "source": [
    "import pyperclip\n",
    "\n",
    "# Obtener el contenido del portapapeles\n",
    "income_statement = pyperclip.paste()\n",
    "\n",
    "# Imprimir el contenido\n",
    "print(\"Contenido copiado:\", income_statement)"
   ]
  },
  {
   "cell_type": "code",
   "execution_count": 52,
   "metadata": {},
   "outputs": [
    {
     "name": "stdout",
     "output_type": "stream",
     "text": [
      "Income Statement | TIKR.com\t12/31/19\t12/31/20\t12/31/21\t12/31/22\t12/31/23\n",
      " \n",
      "Revenue\t1.331,42\t1.589,36\t2.668,89\t2.742,01\t548,15\n",
      "   % Change YoY\t\t19.4%\t67.9%\t2.7%\t(80.0%)\n",
      "Cost Of Goods Sold\t(1.158,22)\t(1.355,66)\t(2.257,24)\t(2.314,78)\t(148,36)\n",
      "Gross Profit\t173,20\t233,71\t411,65\t427,24\t399,79\n",
      "   % Change YoY\t\t34.9%\t76.1%\t3.8%\t(6.4%)\n",
      "   % Gross Margins\t13.0%\t14.7%\t15.4%\t15.6%\t72.9%\n",
      "Selling General & Admin Expenses\t(28,62)\t(54,82)\t(76,85)\t(85,68)\t(42,11)\n",
      "Research And Development Expenses\t\t\t(41,28)\t(40,73)\t(5,27)\n",
      "Other Expenses\t(159,08)\t(160,30)\t(246,23)\t(241,55)\t222,93\n",
      "Operating Expenses\t(187,70)\t(215,12)\t(323,07)\t(327,23)\t(222,93)\n",
      "Operating Income\t(17,24)\t22,44\t94,21\t105,62\t176,86\n",
      "   % Change YoY\t\t230.2%\t319.8%\t12.1%\t67.5%\n",
      "   % Operating Margins\t(1.3%)\t1.4%\t3.5%\t3.9%\t32.3%\n",
      "Interest Expense\t(4,86)\t(6,00)\t(12,07)\t(12,15)\t(14,40)\n",
      "Total Other Income/Expenses Net\t(5,32)\t(7,25)\t(18,86)\t(21,89)\t(24,24)\n",
      "Earnings Before Tax\t(22,55)\t15,19\t75,35\t83,73\t152,63\n",
      "   % Change YoY\t\t167.3%\t396.2%\t11.1%\t82.3%\n",
      "   % EBT Margins\t(1.7%)\t1.0%\t2.8%\t3.1%\t27.8%\n",
      "Income Tax Expense\t(7,95)\t(15,23)\t32,38\t(34,54)\t(66,92)\n",
      "   Effective Tax Rate %\t(35.3%)\t100.3%\t(43.0%)\t41.3%\t43.8%\n",
      "Net Income\t(30,50)\t(0,04)\t107,74\t49,18\t85,71\n",
      "   % Change YoY\t\t99.9%\t250,646.5%\t(54.3%)\t74.3%\n",
      "   % Net Income Margins\t(2.3%)\t(0.0%)\t4.0%\t1.8%\t15.6%\n",
      "Diluted Weighted Average Shares Outstanding\t629,43\t629,43\t629,43\t629,29\t618,81\n",
      "   % Change YoY\t\t\t\t(0.0%)\t(1.7%)\n",
      "EPS Diluted\t(0,05)\t(0,00)\t0,17\t0,08\t0,14\n",
      "   % Change YoY\t\t99.8%\t170,100.0%\t(54.0%)\t79.0%\n",
      "Supplementary Data:\n",
      "Basic EPS\t(0,05)\t(0,00)\t0,17\t0,08\t0,14\n",
      "   % Change YoY\t\t99.8%\t170,100.0%\t(54.0%)\t79.0%\n",
      "Basic Weighted Average Shares Out.\t629,43\t629,43\t629,43\t629,29\t618,81\n",
      "   % Change YoY\t\t\t\t(0.0%)\t(1.7%)\n",
      "EBITDA\t88,42\t152,47\t256,03\t276,68\t324,87\n",
      "   % Change YoY\t\t72.4%\t67.9%\t8.1%\t17.4%\n",
      "   % EBITDA Margins\t6.6%\t9.6%\t9.6%\t10.1%\t59.3%\n",
      "Depreciation and Amortization\t105,66\t130,03\t161,82\t171,06\t148,01\n",
      "General and Administrative Expenses\t27,71\t54,13\t76,85\t85,68\t42,11\n",
      "Selling And Marketing Expenses\t0,91\t0,70\t\t\t\n",
      "\n"
     ]
    }
   ],
   "source": [
    "import re\n",
    "import locale\n",
    "\n",
    "# Establecer el locale en español de España\n",
    "locale.setlocale(locale.LC_ALL, 'es_ES')\n",
    "\n",
    "def formatear_numero(numero):\n",
    "    numero_float = float(numero.replace(\",\", \"\"))\n",
    "    return locale.format_string(\"%0.2f\", numero_float, grouping=True)\n",
    "\n",
    "\n",
    "\n",
    "# Reemplazar los números en el texto\n",
    "income_statement_formateado = re.sub(r'[\\d,]+\\.\\d{2}', lambda x: formatear_numero(x.group()), income_statement)\n",
    "\n",
    "print(income_statement_formateado)\n",
    "\n"
   ]
  },
  {
   "cell_type": "code",
   "execution_count": 53,
   "metadata": {},
   "outputs": [],
   "source": [
    "# Localizar el enlace por el texto 'Balance de situación' y clase 'v-tab'\n",
    "# enlace_balance = driver.find_element(By.XPATH, \"//a[contains(@class, 'v-tab') and contains(text(), 'Balance de situación')]\")\n",
    "\n",
    "\n",
    "\n",
    "# Esperar explícitamente a que el enlace esté visible\n",
    "wait = Wait(driver, 2)\n",
    "enlace_balance = wait.until(EC.visibility_of_element_located((By.XPATH, \"//a[contains(@class, 'v-tab') and contains(., 'Balance Sheet')]\")))\n",
    "\n",
    "# Pulsar el enlace\n",
    "enlace_balance.click()"
   ]
  },
  {
   "cell_type": "code",
   "execution_count": 54,
   "metadata": {},
   "outputs": [],
   "source": [
    "# Localizar el botón por clase y atributo 'alt'\n",
    "boton_copiar_tabla = driver.find_element(By.XPATH, \"//button[@alt='Copy Table' and contains(@class, 'v-btn--outlined')]\")\n",
    "\n",
    "# Pulsar el botón\n",
    "boton_copiar_tabla.click()"
   ]
  },
  {
   "cell_type": "code",
   "execution_count": 55,
   "metadata": {},
   "outputs": [
    {
     "name": "stdout",
     "output_type": "stream",
     "text": [
      "Contenido copiado: Balance Sheet | TIKR.com\t12/31/19\t12/31/20\t12/31/21\t12/31/22\t12/31/23\n",
      " \n",
      "Cash And Cash Equivalents\t1,044.37\t1,848.91\t2,192.63\t1,623.34\t1,477.00\n",
      "Short Term Investments\t313.11\t226.71\t62.09\t161.95\t792.25\n",
      "Total Cash And Short Term Investments\t1,357.48\t2,075.62\t2,254.72\t1,785.29\t2,269.25\n",
      "Net Receivables\t11.12\t9.02\t23.23\t20.54\t136.46\n",
      "Inventory\t(0.61)\t(0.51)\t(0.38)\t(0.34)\t(2.86)\n",
      "Other Current Assets\t7.05\t22.92\t9.91\t6.79\t(2,405.71)\n",
      "Total Current Assets\t1,709.79\t2,527.08\t3,188.50\t2,730.69\t3,079.21\n",
      "Property Plant Equipment Net\t28.25\t29.30\t28.05\t25.84\t31.28\n",
      "Goodwill\t643.82\t1,015.98\t1,008.16\t1,128.86\t1,276.47\n",
      "Intangible Assets\t1,006.94\t1,308.17\t1,194.98\t1,130.75\t1,089.27\n",
      "Long Term Investments\t(312.19)\t(225.84)\t\t\t14.20\n",
      "Tax Assets\t20.96\t55.11\t125.42\t110.17\t92.75\n",
      "Other Non Current Assets\t313.11\t226.71\t0.96\t0.80\t(12.94)\n",
      "Total Non Current Assets\t1,700.91\t2,409.43\t2,357.56\t2,396.42\t2,491.02\n",
      "Total Assets\t3,410.69\t4,936.51\t5,546.05\t5,127.11\t5,570.22\n",
      "Short Term Debt\t5.19\t7.29\t57.12\t201.69\t7.04\n",
      "Tax Payables\t2.53\t15.15\t52.10\t29.11\t26.03\n",
      "Deferred Revenue\t\t352.16\t601.71\t522.10\t561.42\n",
      "Other Current Liabilities\t1,502.82\t1,850.35\t2,300.94\t1,626.06\t2,040.93\n",
      "Total Current Liabilities\t1,514.48\t2,228.52\t2,983.88\t2,362.41\t2,619.57\n",
      "Long Term Debt\t12.98\t12.19\t12.73\t205.13\t366.95\n",
      "Deferred Revenue Non Current\t\t352.16\t601.71\t522.10\t561.42\n",
      "Other Non Current Liabilities\t1.54\t(352.16)\t(599.82)\t(521.18)\t(517.18)\n",
      "Total Non Current Liabilities\t292.28\t332.74\t237.84\t410.20\t599.75\n",
      "Total Liabilities\t1,806.76\t2,561.25\t3,221.72\t2,772.61\t3,219.31\n",
      "Common Stock\t1.10\t1.57\t1.57\t1.57\t1.55\n",
      "Retained Earnings\t325.51\t313.00\t248.11\t263.35\t292.52\n",
      "Accumulated Other Comprehensive Income Loss\t0.49\t0.53\t14.50\t39.43\t55.52\n",
      "Other Total Stockholders Equity\t1,276.84\t2,060.16\t2,060.16\t2,050.16\t2,001.32\n",
      "Total Stockholders Equity\t1,603.93\t2,375.26\t2,324.34\t2,354.50\t2,350.91\n",
      "Total Liabilities And Stockholders Equity\t3,410.69\t4,936.51\t5,546.05\t5,127.11\t5,570.22\n",
      "Supplementary Data:\n",
      "Total Debt\t18.17\t19.48\t69.84\t406.82\t390.49\n",
      "Net Debt\t(1,026.21)\t(1,829.43)\t(2,122.79)\t(1,216.52)\t(1,086.51)\n",
      "\n"
     ]
    }
   ],
   "source": [
    "# Obtener el contenido del portapapeles\n",
    "balance_sheet = pyperclip.paste()\n",
    "\n",
    "# Imprimir el contenido\n",
    "print(\"Contenido copiado:\", balance_sheet)"
   ]
  },
  {
   "cell_type": "code",
   "execution_count": 56,
   "metadata": {},
   "outputs": [
    {
     "name": "stdout",
     "output_type": "stream",
     "text": [
      "Balance Sheet | TIKR.com\t12/31/19\t12/31/20\t12/31/21\t12/31/22\t12/31/23\n",
      " \n",
      "Cash And Cash Equivalents\t1.044,37\t1.848,91\t2.192,63\t1.623,34\t1.477,00\n",
      "Short Term Investments\t313,11\t226,71\t62,09\t161,95\t792,25\n",
      "Total Cash And Short Term Investments\t1.357,48\t2.075,62\t2.254,72\t1.785,29\t2.269,25\n",
      "Net Receivables\t11,12\t9,02\t23,23\t20,54\t136,46\n",
      "Inventory\t(0,61)\t(0,51)\t(0,38)\t(0,34)\t(2,86)\n",
      "Other Current Assets\t7,05\t22,92\t9,91\t6,79\t(2.405,71)\n",
      "Total Current Assets\t1.709,79\t2.527,08\t3.188,50\t2.730,69\t3.079,21\n",
      "Property Plant Equipment Net\t28,25\t29,30\t28,05\t25,84\t31,28\n",
      "Goodwill\t643,82\t1.015,98\t1.008,16\t1.128,86\t1.276,47\n",
      "Intangible Assets\t1.006,94\t1.308,17\t1.194,98\t1.130,75\t1.089,27\n",
      "Long Term Investments\t(312,19)\t(225,84)\t\t\t14,20\n",
      "Tax Assets\t20,96\t55,11\t125,42\t110,17\t92,75\n",
      "Other Non Current Assets\t313,11\t226,71\t0,96\t0,80\t(12,94)\n",
      "Total Non Current Assets\t1.700,91\t2.409,43\t2.357,56\t2.396,42\t2.491,02\n",
      "Total Assets\t3.410,69\t4.936,51\t5.546,05\t5.127,11\t5.570,22\n",
      "Short Term Debt\t5,19\t7,29\t57,12\t201,69\t7,04\n",
      "Tax Payables\t2,53\t15,15\t52,10\t29,11\t26,03\n",
      "Deferred Revenue\t\t352,16\t601,71\t522,10\t561,42\n",
      "Other Current Liabilities\t1.502,82\t1.850,35\t2.300,94\t1.626,06\t2.040,93\n",
      "Total Current Liabilities\t1.514,48\t2.228,52\t2.983,88\t2.362,41\t2.619,57\n",
      "Long Term Debt\t12,98\t12,19\t12,73\t205,13\t366,95\n",
      "Deferred Revenue Non Current\t\t352,16\t601,71\t522,10\t561,42\n",
      "Other Non Current Liabilities\t1,54\t(352,16)\t(599,82)\t(521,18)\t(517,18)\n",
      "Total Non Current Liabilities\t292,28\t332,74\t237,84\t410,20\t599,75\n",
      "Total Liabilities\t1.806,76\t2.561,25\t3.221,72\t2.772,61\t3.219,31\n",
      "Common Stock\t1,10\t1,57\t1,57\t1,57\t1,55\n",
      "Retained Earnings\t325,51\t313,00\t248,11\t263,35\t292,52\n",
      "Accumulated Other Comprehensive Income Loss\t0,49\t0,53\t14,50\t39,43\t55,52\n",
      "Other Total Stockholders Equity\t1.276,84\t2.060,16\t2.060,16\t2.050,16\t2.001,32\n",
      "Total Stockholders Equity\t1.603,93\t2.375,26\t2.324,34\t2.354,50\t2.350,91\n",
      "Total Liabilities And Stockholders Equity\t3.410,69\t4.936,51\t5.546,05\t5.127,11\t5.570,22\n",
      "Supplementary Data:\n",
      "Total Debt\t18,17\t19,48\t69,84\t406,82\t390,49\n",
      "Net Debt\t(1.026,21)\t(1.829,43)\t(2.122,79)\t(1.216,52)\t(1.086,51)\n",
      "\n"
     ]
    }
   ],
   "source": [
    "import re\n",
    "import locale\n",
    "\n",
    "# Establecer el locale en español de España\n",
    "locale.setlocale(locale.LC_ALL, 'es_ES')\n",
    "\n",
    "def formatear_numero(numero):\n",
    "    numero_float = float(numero.replace(\",\", \"\"))\n",
    "    return locale.format_string(\"%0.2f\", numero_float, grouping=True)\n",
    "\n",
    "\n",
    "# Reemplazar los números en el texto\n",
    "balance_sheet_formateado = re.sub(r'[\\d,]+\\.\\d{2}', lambda x: formatear_numero(x.group()), balance_sheet)\n",
    "\n",
    "print(balance_sheet_formateado)"
   ]
  },
  {
   "cell_type": "code",
   "execution_count": 57,
   "metadata": {},
   "outputs": [],
   "source": [
    "# Localizar el enlace por el texto 'Estado de flujo de efectivo' y clase 'v-tab'\n",
    "# enlace_flujo_efectivo = driver.find_element(By.XPATH, \"//a[contains(@class, 'v-tab') and contains(text(), 'Estado de flujo de efectivo')]\")\n",
    "\n",
    "enlace_flujo_efectivo = driver.find_element(By.XPATH, \"//a[contains(@class, 'v-tab') and contains(., 'Cash Flow Statement')]\")\n",
    "\n",
    "# Pulsar el enlace\n",
    "enlace_flujo_efectivo.click()"
   ]
  },
  {
   "cell_type": "code",
   "execution_count": 58,
   "metadata": {},
   "outputs": [],
   "source": [
    "# Pulsar el botón\n",
    "boton_copiar_tabla.click()"
   ]
  },
  {
   "cell_type": "code",
   "execution_count": 59,
   "metadata": {},
   "outputs": [
    {
     "name": "stdout",
     "output_type": "stream",
     "text": [
      "Contenido copiado: Cash Flow Statement | TIKR.com\t12/31/19\t12/31/20\t12/31/21\t12/31/22\t12/31/23\n",
      " \n",
      "Net Income\t(30.50)\t(0.04)\t107.74\t49.18\t85.71\n",
      "Depreciation And Amortization\t105.66\t130.03\t161.82\t171.06\t148.01\n",
      "Deferred Income Tax\t\t\t(1.97)\t(9.90)\t0.67\n",
      "Stock Based Compensation\t\t\t1.97\t7.93\t8.02\n",
      "Change In Net Working Capital\t377.32\t709.33\t367.62\t(521.88)\t365.87\n",
      "Other Non Cash Items\t(9.29)\t(3.65)\t(134.63)\t(3.89)\t22.17\n",
      "Cash from Operations\t443.18\t835.67\t502.55\t(307.49)\t630.43\n",
      "Capital Expenditure\t(27.02)\t(28.51)\t(23.51)\t(39.72)\t(79.66)\n",
      "Cash Acquisitions\t(9.06)\t0.41\t\t(127.06)\t(137.18)\n",
      "Purchases Of Investments\t(0.27)\t18.60\t(0.74)\t\t\n",
      "Sales / Maturities Of Investments\t32.12\t0.10\t\t\t\n",
      "Other Investing Activites\t(31.85)\t(18.70)\t0.74\t\t(78.32)\n",
      "Cash from Investing\t(36.08)\t(28.09)\t(23.51)\t(166.78)\t(216.84)\n",
      "Debt Repayment\t(4.57)\t(6.11)\t(46.70)\t(146.00)\t(174.00)\n",
      "Common Stock Issued\t\t14.64\t10.40\t(146.00)\t(7.95)\n",
      "Common Stock Repurchased\t\t6.11\t(57.10)\t(10.00)\t(50.00)\n",
      "Dividends Paid\t(70.87)\t(12.00)\t(185.00)\t(216.47)\t(56.54)\n",
      "Other Financing Activites\t(4.57)\t(6.11)\t141.33\t425.67\t6.68\n",
      "Cash from Financing\t(75.44)\t(3.47)\t(137.07)\t(92.81)\t66.19\n",
      "Effect Of Forex Changes On Cash\t(0.73)\t0.43\t1.76\t(2.21)\t(2.15)\n",
      "Net Change In Cash\t330.93\t804.53\t343.73\t(569.29)\t361.96\n",
      "Supplementary Data:\n",
      "Free Cash Flow\t416.16\t807.16\t479.04\t(347.21)\t550.77\n",
      "   % Change YoY\t\t94.0%\t(40.7%)\t(172.5%)\t258.6%\n",
      "   % Free Cash Flow Margins\t31.3%\t50.8%\t17.9%\t(12.7%)\t100.5%\n",
      "Cash At Beginning Of Period\t713.44\t1,044.37\t1,848.91\t2,192.63\t1,115.05\n",
      "Cash At End Of Period\t1,044.37\t1,848.91\t2,192.63\t1,623.34\t1,477.00\n",
      "\n"
     ]
    }
   ],
   "source": [
    "# Obtener el contenido del portapapeles\n",
    "cash_flow = pyperclip.paste()\n",
    "\n",
    "# Imprimir el contenido\n",
    "print(\"Contenido copiado:\", cash_flow)"
   ]
  },
  {
   "cell_type": "code",
   "execution_count": 60,
   "metadata": {},
   "outputs": [
    {
     "name": "stdout",
     "output_type": "stream",
     "text": [
      "Cash Flow Statement | TIKR.com\t12/31/19\t12/31/20\t12/31/21\t12/31/22\t12/31/23\n",
      " \n",
      "Net Income\t(30,50)\t(0,04)\t107,74\t49,18\t85,71\n",
      "Depreciation And Amortization\t105,66\t130,03\t161,82\t171,06\t148,01\n",
      "Deferred Income Tax\t\t\t(1,97)\t(9,90)\t0,67\n",
      "Stock Based Compensation\t\t\t1,97\t7,93\t8,02\n",
      "Change In Net Working Capital\t377,32\t709,33\t367,62\t(521,88)\t365,87\n",
      "Other Non Cash Items\t(9,29)\t(3,65)\t(134,63)\t(3,89)\t22,17\n",
      "Cash from Operations\t443,18\t835,67\t502,55\t(307,49)\t630,43\n",
      "Capital Expenditure\t(27,02)\t(28,51)\t(23,51)\t(39,72)\t(79,66)\n",
      "Cash Acquisitions\t(9,06)\t0,41\t\t(127,06)\t(137,18)\n",
      "Purchases Of Investments\t(0,27)\t18,60\t(0,74)\t\t\n",
      "Sales / Maturities Of Investments\t32,12\t0,10\t\t\t\n",
      "Other Investing Activites\t(31,85)\t(18,70)\t0,74\t\t(78,32)\n",
      "Cash from Investing\t(36,08)\t(28,09)\t(23,51)\t(166,78)\t(216,84)\n",
      "Debt Repayment\t(4,57)\t(6,11)\t(46,70)\t(146,00)\t(174,00)\n",
      "Common Stock Issued\t\t14,64\t10,40\t(146,00)\t(7,95)\n",
      "Common Stock Repurchased\t\t6,11\t(57,10)\t(10,00)\t(50,00)\n",
      "Dividends Paid\t(70,87)\t(12,00)\t(185,00)\t(216,47)\t(56,54)\n",
      "Other Financing Activites\t(4,57)\t(6,11)\t141,33\t425,67\t6,68\n",
      "Cash from Financing\t(75,44)\t(3,47)\t(137,07)\t(92,81)\t66,19\n",
      "Effect Of Forex Changes On Cash\t(0,73)\t0,43\t1,76\t(2,21)\t(2,15)\n",
      "Net Change In Cash\t330,93\t804,53\t343,73\t(569,29)\t361,96\n",
      "Supplementary Data:\n",
      "Free Cash Flow\t416,16\t807,16\t479,04\t(347,21)\t550,77\n",
      "   % Change YoY\t\t94.0%\t(40.7%)\t(172.5%)\t258.6%\n",
      "   % Free Cash Flow Margins\t31.3%\t50.8%\t17.9%\t(12.7%)\t100.5%\n",
      "Cash At Beginning Of Period\t713,44\t1.044,37\t1.848,91\t2.192,63\t1.115,05\n",
      "Cash At End Of Period\t1.044,37\t1.848,91\t2.192,63\t1.623,34\t1.477,00\n",
      "\n"
     ]
    }
   ],
   "source": [
    "import re\n",
    "import locale\n",
    "\n",
    "# Establecer el locale en español de España\n",
    "locale.setlocale(locale.LC_ALL, 'es_ES')\n",
    "\n",
    "def formatear_numero(numero):\n",
    "    numero_float = float(numero.replace(\",\", \"\"))\n",
    "    return locale.format_string(\"%0.2f\", numero_float, grouping=True)\n",
    "\n",
    "\n",
    "# Reemplazar los números en el texto\n",
    "cash_flow_formateado = re.sub(r'[\\d,]+\\.\\d{2}', lambda x: formatear_numero(x.group()), cash_flow)\n",
    "\n",
    "print(cash_flow_formateado)"
   ]
  },
  {
   "cell_type": "code",
   "execution_count": 62,
   "metadata": {},
   "outputs": [
    {
     "ename": "InvalidSessionIdException",
     "evalue": "Message: invalid session id\nStacktrace:\n\tGetHandleVerifier [0x009D0B43+25139]\n\t(No symbol) [0x009613F4]\n\t(No symbol) [0x00840340]\n\t(No symbol) [0x0087B278]\n\t(No symbol) [0x008ACE86]\n\t(No symbol) [0x008A8861]\n\t(No symbol) [0x008A7DE6]\n\t(No symbol) [0x00813245]\n\t(No symbol) [0x0081379E]\n\t(No symbol) [0x00813C1D]\n\tGetHandleVerifier [0x00CD4373+3185251]\n\tGetHandleVerifier [0x00CF291A+3309578]\n\tGetHandleVerifier [0x00CECF42+3286578]\n\tGetHandleVerifier [0x00A67AE0+643536]\n\t(No symbol) [0x0096A20D]\n\t(No symbol) [0x00812F10]\n\t(No symbol) [0x00812AD6]\n\tGetHandleVerifier [0x00D7717C+3852396]\n\tBaseThreadInitThunk [0x76F35D49+25]\n\tRtlInitializeExceptionChain [0x77AECDEB+107]\n\tRtlGetAppContainerNamedObjectPath [0x77AECD71+561]\n",
     "output_type": "error",
     "traceback": [
      "\u001b[1;31m---------------------------------------------------------------------------\u001b[0m",
      "\u001b[1;31mInvalidSessionIdException\u001b[0m                 Traceback (most recent call last)",
      "Cell \u001b[1;32mIn[62], line 4\u001b[0m\n\u001b[0;32m      1\u001b[0m \u001b[38;5;28;01mfrom\u001b[39;00m \u001b[38;5;21;01mselenium\u001b[39;00m\u001b[38;5;21;01m.\u001b[39;00m\u001b[38;5;21;01mwebdriver\u001b[39;00m\u001b[38;5;21;01m.\u001b[39;00m\u001b[38;5;21;01mcommon\u001b[39;00m\u001b[38;5;21;01m.\u001b[39;00m\u001b[38;5;21;01mkeys\u001b[39;00m \u001b[38;5;28;01mimport\u001b[39;00m Keys\n\u001b[0;32m      3\u001b[0m \u001b[38;5;66;03m# Localizar el campo de entrada por ID\u001b[39;00m\n\u001b[1;32m----> 4\u001b[0m campo_entrada \u001b[38;5;241m=\u001b[39m driver\u001b[38;5;241m.\u001b[39mfind_element(By\u001b[38;5;241m.\u001b[39mID, \u001b[38;5;124m\"\u001b[39m\u001b[38;5;124minput-95\u001b[39m\u001b[38;5;124m\"\u001b[39m)\n\u001b[0;32m      6\u001b[0m \u001b[38;5;66;03m# Desplazarse al campo de entrada usando JavaScript\u001b[39;00m\n\u001b[0;32m      7\u001b[0m driver\u001b[38;5;241m.\u001b[39mexecute_script(\u001b[38;5;124m\"\u001b[39m\u001b[38;5;124marguments[0].scrollIntoView(true);\u001b[39m\u001b[38;5;124m\"\u001b[39m, campo_entrada)\n",
      "File \u001b[1;32mc:\\Users\\bruno\\anaconda3\\Lib\\site-packages\\selenium\\webdriver\\remote\\webdriver.py:888\u001b[0m, in \u001b[0;36mWebDriver.find_element\u001b[1;34m(self, by, value)\u001b[0m\n\u001b[0;32m    885\u001b[0m         \u001b[38;5;28;01mraise\u001b[39;00m NoSuchElementException(\u001b[38;5;124mf\u001b[39m\u001b[38;5;124m\"\u001b[39m\u001b[38;5;124mCannot locate relative element with: \u001b[39m\u001b[38;5;132;01m{\u001b[39;00mby\u001b[38;5;241m.\u001b[39mroot\u001b[38;5;132;01m}\u001b[39;00m\u001b[38;5;124m\"\u001b[39m)\n\u001b[0;32m    886\u001b[0m     \u001b[38;5;28;01mreturn\u001b[39;00m elements[\u001b[38;5;241m0\u001b[39m]\n\u001b[1;32m--> 888\u001b[0m \u001b[38;5;28;01mreturn\u001b[39;00m \u001b[38;5;28mself\u001b[39m\u001b[38;5;241m.\u001b[39mexecute(Command\u001b[38;5;241m.\u001b[39mFIND_ELEMENT, {\u001b[38;5;124m\"\u001b[39m\u001b[38;5;124musing\u001b[39m\u001b[38;5;124m\"\u001b[39m: by, \u001b[38;5;124m\"\u001b[39m\u001b[38;5;124mvalue\u001b[39m\u001b[38;5;124m\"\u001b[39m: value})[\u001b[38;5;124m\"\u001b[39m\u001b[38;5;124mvalue\u001b[39m\u001b[38;5;124m\"\u001b[39m]\n",
      "File \u001b[1;32mc:\\Users\\bruno\\anaconda3\\Lib\\site-packages\\selenium\\webdriver\\remote\\webdriver.py:429\u001b[0m, in \u001b[0;36mWebDriver.execute\u001b[1;34m(self, driver_command, params)\u001b[0m\n\u001b[0;32m    427\u001b[0m response \u001b[38;5;241m=\u001b[39m \u001b[38;5;28mself\u001b[39m\u001b[38;5;241m.\u001b[39mcommand_executor\u001b[38;5;241m.\u001b[39mexecute(driver_command, params)\n\u001b[0;32m    428\u001b[0m \u001b[38;5;28;01mif\u001b[39;00m response:\n\u001b[1;32m--> 429\u001b[0m     \u001b[38;5;28mself\u001b[39m\u001b[38;5;241m.\u001b[39merror_handler\u001b[38;5;241m.\u001b[39mcheck_response(response)\n\u001b[0;32m    430\u001b[0m     response[\u001b[38;5;124m\"\u001b[39m\u001b[38;5;124mvalue\u001b[39m\u001b[38;5;124m\"\u001b[39m] \u001b[38;5;241m=\u001b[39m \u001b[38;5;28mself\u001b[39m\u001b[38;5;241m.\u001b[39m_unwrap_value(response\u001b[38;5;241m.\u001b[39mget(\u001b[38;5;124m\"\u001b[39m\u001b[38;5;124mvalue\u001b[39m\u001b[38;5;124m\"\u001b[39m, \u001b[38;5;28;01mNone\u001b[39;00m))\n\u001b[0;32m    431\u001b[0m     \u001b[38;5;28;01mreturn\u001b[39;00m response\n",
      "File \u001b[1;32mc:\\Users\\bruno\\anaconda3\\Lib\\site-packages\\selenium\\webdriver\\remote\\errorhandler.py:232\u001b[0m, in \u001b[0;36mErrorHandler.check_response\u001b[1;34m(self, response)\u001b[0m\n\u001b[0;32m    230\u001b[0m         alert_text \u001b[38;5;241m=\u001b[39m value[\u001b[38;5;124m\"\u001b[39m\u001b[38;5;124malert\u001b[39m\u001b[38;5;124m\"\u001b[39m]\u001b[38;5;241m.\u001b[39mget(\u001b[38;5;124m\"\u001b[39m\u001b[38;5;124mtext\u001b[39m\u001b[38;5;124m\"\u001b[39m)\n\u001b[0;32m    231\u001b[0m     \u001b[38;5;28;01mraise\u001b[39;00m exception_class(message, screen, stacktrace, alert_text)  \u001b[38;5;66;03m# type: ignore[call-arg]  # mypy is not smart enough here\u001b[39;00m\n\u001b[1;32m--> 232\u001b[0m \u001b[38;5;28;01mraise\u001b[39;00m exception_class(message, screen, stacktrace)\n",
      "\u001b[1;31mInvalidSessionIdException\u001b[0m: Message: invalid session id\nStacktrace:\n\tGetHandleVerifier [0x009D0B43+25139]\n\t(No symbol) [0x009613F4]\n\t(No symbol) [0x00840340]\n\t(No symbol) [0x0087B278]\n\t(No symbol) [0x008ACE86]\n\t(No symbol) [0x008A8861]\n\t(No symbol) [0x008A7DE6]\n\t(No symbol) [0x00813245]\n\t(No symbol) [0x0081379E]\n\t(No symbol) [0x00813C1D]\n\tGetHandleVerifier [0x00CD4373+3185251]\n\tGetHandleVerifier [0x00CF291A+3309578]\n\tGetHandleVerifier [0x00CECF42+3286578]\n\tGetHandleVerifier [0x00A67AE0+643536]\n\t(No symbol) [0x0096A20D]\n\t(No symbol) [0x00812F10]\n\t(No symbol) [0x00812AD6]\n\tGetHandleVerifier [0x00D7717C+3852396]\n\tBaseThreadInitThunk [0x76F35D49+25]\n\tRtlInitializeExceptionChain [0x77AECDEB+107]\n\tRtlGetAppContainerNamedObjectPath [0x77AECD71+561]\n"
     ]
    }
   ],
   "source": [
    "from selenium.webdriver.common.keys import Keys\n",
    "\n",
    "# Localizar el campo de entrada por ID\n",
    "campo_entrada = driver.find_element(By.ID, \"input-95\")\n",
    "\n",
    "# Desplazarse al campo de entrada usando JavaScript\n",
    "driver.execute_script(\"arguments[0].scrollIntoView(true);\", campo_entrada)\n",
    "\n",
    "# Usar ActionChains para hacer clic en el campo de entrada\n",
    "actions = ActionChains(driver)\n",
    "actions.move_to_element(campo_entrada).click().perform()\n",
    "\n",
    "# Realizar la acción de \"delete\" en el campo de entrada\n",
    "campo_entrada.send_keys(Keys.DELETE)\n"
   ]
  },
  {
   "cell_type": "code",
   "execution_count": 15,
   "metadata": {},
   "outputs": [],
   "source": [
    "driver.quit()"
   ]
  }
 ],
 "metadata": {
  "kernelspec": {
   "display_name": "base",
   "language": "python",
   "name": "python3"
  },
  "language_info": {
   "codemirror_mode": {
    "name": "ipython",
    "version": 3
   },
   "file_extension": ".py",
   "mimetype": "text/x-python",
   "name": "python",
   "nbconvert_exporter": "python",
   "pygments_lexer": "ipython3",
   "version": "3.12.3"
  }
 },
 "nbformat": 4,
 "nbformat_minor": 2
}
